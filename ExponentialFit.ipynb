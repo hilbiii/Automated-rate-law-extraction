{
 "cells": [
  {
   "cell_type": "code",
   "execution_count": 3,
   "metadata": {},
   "outputs": [],
   "source": [
    "import numpy as np\n",
    "import matplotlib.pyplot as plt\n",
    "from scipy.interpolate import UnivariateSpline\n",
    "from scipy.optimize import curve_fit\n",
    "import pandas as pd"
   ]
  },
  {
   "cell_type": "code",
   "execution_count": 4,
   "metadata": {},
   "outputs": [],
   "source": [
    "def polynomial(x,y,k,w=None):\n",
    "    \n",
    "    '''\n",
    "    Draw a curve through a dataset defined by (x,y) using a polynomial\n",
    "    \n",
    "    If k = 1: Straight line is fitted through data\n",
    "    If k = 2: Quadratic polynomial is fitted through data\n",
    "    If k = 3: Cubic polynomial is fitted through data\n",
    "    \n",
    "    The polynomials are generated using the class UnivariateSpline which calculates splines.\n",
    "    A polynomial is the same as a spline with two knots (at the extremes of the considered interval)\n",
    "    '''\n",
    "    \n",
    "    m = len(x)                       # Number of points in dataset\n",
    "    s = m                            # Default smoothing factor is equal to the number of data points m\n",
    "    done = False                     # Determines if the algorithm is finished or not\n",
    "    \n",
    "    '''\n",
    "    A first spline is calculated\n",
    "    If it has two knots, the algorithm is finished\n",
    "    '''\n",
    "    \n",
    "    sp = UnivariateSpline(x,y,w,[None,None],k,s)              # A new spline is calculated using the new residual s\n",
    "    nr_knots = len(sp.get_knots())                            # Number of knots of the new spline\n",
    "    \n",
    "    if nr_knots == 2:\n",
    "        \n",
    "        return sp\n",
    "        \n",
    "    '''\n",
    "    If the number of knots is higher than 2, a higher smoothing factor is needed to decrease the number of knots\n",
    "    The smoothing factor is doubled until the number of knots equals 2\n",
    "    '''\n",
    "    \n",
    "    while not done:\n",
    "        \n",
    "        s *= 2                         # Residual is doubled\n",
    "        \n",
    "        sp = UnivariateSpline(x,y,w,[None,None],k,s)              # A new spline is calculated using the new residual s\n",
    "        nr_knots = len(sp.get_knots())                            # Number of knots of the new spline\n",
    "        \n",
    "        if nr_knots == 2:                                         # Algorithm is finished if nr_knots equals 2\n",
    "            done = True                                              \n",
    "    \n",
    "    return sp"
   ]
  },
  {
   "cell_type": "code",
   "execution_count": 21,
   "metadata": {},
   "outputs": [],
   "source": [
    "x = np.linspace(0,9,10)\n",
    "y = np.exp(-x) + np.random.random(10)*0"
   ]
  },
  {
   "cell_type": "code",
   "execution_count": 22,
   "metadata": {},
   "outputs": [],
   "source": [
    "#Shape1\n",
    "x = [95.81608347,249.1218171,359.3044234]\n",
    "y = [23.76814889,26.09464349,57.38339297]"
   ]
  },
  {
   "cell_type": "code",
   "execution_count": 5,
   "metadata": {},
   "outputs": [],
   "source": [
    "#Shape2\n",
    "x = [0, 0.495, 0.99]\n",
    "y = [1, 0.754975, 0.0199]"
   ]
  },
  {
   "cell_type": "code",
   "execution_count": 6,
   "metadata": {},
   "outputs": [
    {
     "data": {
      "text/plain": [
       "[<matplotlib.lines.Line2D at 0x210714a1128>]"
      ]
     },
     "execution_count": 6,
     "metadata": {},
     "output_type": "execute_result"
    },
    {
     "data": {
      "image/png": "[encoded data removed]",
      "text/plain": [
       "<Figure size 432x288 with 1 Axes>"
      ]
     },
     "metadata": {
      "needs_background": "light"
     },
     "output_type": "display_data"
    }
   ],
   "source": [
    "m = len(x)\n",
    "\n",
    "y_min = min(y)\n",
    "\n",
    "y0 = np.linspace(y_min,y_min,1)\n",
    "y = y - y0 + 10**-10\n",
    "\n",
    "w = np.power(y,1)\n",
    "\n",
    "ln_y = np.log(y)\n",
    "sp = polynomial(x,ln_y,1,w)\n",
    "\n",
    "xs = np.linspace(x[0],x[m-1],1000)\n",
    "y_pred = np.exp(sp(xs))\n",
    "\n",
    "plt.plot(x, y+y0, 'ro', ms=5)\n",
    "plt.plot(xs, y_pred+y0, 'b', lw=3)"
   ]
  },
  {
   "cell_type": "code",
   "execution_count": 7,
   "metadata": {
    "scrolled": true
   },
   "outputs": [
    {
     "data": {
      "text/plain": [
       "[<matplotlib.lines.Line2D at 0x210717e03c8>]"
      ]
     },
     "execution_count": 7,
     "metadata": {},
     "output_type": "execute_result"
    },
    {
     "data": {
      "image/png": "[encoded data removed]",
      "text/plain": [
       "<Figure size 432x288 with 1 Axes>"
      ]
     },
     "metadata": {
      "needs_background": "light"
     },
     "output_type": "display_data"
    }
   ],
   "source": [
    "plt.plot(x, ln_y, 'ro', ms=5)"
   ]
  },
  {
   "cell_type": "code",
   "execution_count": 8,
   "metadata": {},
   "outputs": [],
   "source": [
    "#Shape3\n",
    "x = [51.10191118,100.6052411,223.5708615]\n",
    "y = [42.28049668,26.27784215,26.509831]"
   ]
  },
  {
   "cell_type": "code",
   "execution_count": 9,
   "metadata": {},
   "outputs": [
    {
     "data": {
      "text/plain": [
       "[<matplotlib.lines.Line2D at 0x21071806710>]"
      ]
     },
     "execution_count": 9,
     "metadata": {},
     "output_type": "execute_result"
    },
    {
     "data": {
      "image/png": "[encoded data removed]",
      "text/plain": [
       "<Figure size 432x288 with 1 Axes>"
      ]
     },
     "metadata": {
      "needs_background": "light"
     },
     "output_type": "display_data"
    }
   ],
   "source": [
    "m = len(x)\n",
    "\n",
    "x_min = x[0]\n",
    "\n",
    "x0 = np.linspace(x_min,x_min,1)\n",
    "x = x - x0 + 10**-10\n",
    "\n",
    "ln_x = np.log(x)\n",
    "sp = polynomial(ln_x,y,1)\n",
    "\n",
    "xs = np.linspace(x[0],x[m-1],1000)\n",
    "ln_xs = np.log(xs)\n",
    "\n",
    "y_pred = sp(ln_xs)\n",
    "\n",
    "plt.plot(x + x_min, y, 'ro', ms=5)\n",
    "plt.plot(xs + x_min, y_pred, 'b', lw=3)"
   ]
  },
  {
   "cell_type": "code",
   "execution_count": 10,
   "metadata": {},
   "outputs": [],
   "source": [
    "#Shape4\n",
    "x = [51.10191118,100.6052411,223.5708615]\n",
    "y = [57.17892445,72.74037707,72.29501013]"
   ]
  },
  {
   "cell_type": "code",
   "execution_count": 11,
   "metadata": {},
   "outputs": [
    {
     "data": {
      "text/plain": [
       "[<matplotlib.lines.Line2D at 0x21071893f98>]"
      ]
     },
     "execution_count": 11,
     "metadata": {},
     "output_type": "execute_result"
    },
    {
     "data": {
      "image/png": "[encoded data removed]",
      "text/plain": [
       "<Figure size 432x288 with 1 Axes>"
      ]
     },
     "metadata": {
      "needs_background": "light"
     },
     "output_type": "display_data"
    }
   ],
   "source": [
    "m = len(x)\n",
    "\n",
    "x_min = x[0]\n",
    "\n",
    "x0 = np.linspace(x_min,x_min,1)\n",
    "x = x - x0 + 10**-10\n",
    "\n",
    "ln_x = np.log(x)\n",
    "sp = polynomial(ln_x,y,1)\n",
    "\n",
    "xs = np.linspace(x[0],x[m-1],1000)\n",
    "ln_xs = np.log(xs)\n",
    "\n",
    "y_pred = sp(ln_xs)\n",
    "\n",
    "plt.plot(x + x_min, y, 'ro', ms=5)\n",
    "plt.plot(xs + x_min, y_pred, 'b', lw=3)"
   ]
  },
  {
   "cell_type": "code",
   "execution_count": 12,
   "metadata": {},
   "outputs": [],
   "source": [
    "#Shape1\n",
    "x = [95.81608347,249.1218171,359.3044234]\n",
    "y = [23.76814889,26.09464349,57.38339297]"
   ]
  },
  {
   "cell_type": "code",
   "execution_count": 13,
   "metadata": {},
   "outputs": [],
   "source": [
    "#Shape2\n",
    "x = [0, 0.495, 0.99]\n",
    "y = [1, 0.754975, 0.0199]"
   ]
  },
  {
   "cell_type": "code",
   "execution_count": 14,
   "metadata": {},
   "outputs": [
    {
     "data": {
      "text/plain": [
       "[<matplotlib.lines.Line2D at 0x210718f0f98>]"
      ]
     },
     "execution_count": 14,
     "metadata": {},
     "output_type": "execute_result"
    },
    {
     "data": {
      "image/png": "[encoded data removed]",
      "text/plain": [
       "<Figure size 432x288 with 1 Axes>"
      ]
     },
     "metadata": {
      "needs_background": "light"
     },
     "output_type": "display_data"
    }
   ],
   "source": [
    "m = len(x)\n",
    "\n",
    "x_min = x[0]\n",
    "\n",
    "x0 = np.linspace(x_min,x_min,1)\n",
    "x = x - x0 + 10**-10\n",
    "\n",
    "ln_x = np.log(x)\n",
    "sp = polynomial(ln_x,y,1)\n",
    "\n",
    "xs = np.linspace(x[0],x[m-1],1000)\n",
    "ln_xs = np.log(xs)\n",
    "\n",
    "y_pred = sp(ln_xs)\n",
    "\n",
    "plt.plot(x + x_min, y, 'ro', ms=5)\n",
    "plt.plot(xs + x_min, y_pred, 'b', lw=3)"
   ]
  },
  {
   "cell_type": "code",
   "execution_count": 15,
   "metadata": {},
   "outputs": [
    {
     "name": "stdout",
     "output_type": "stream",
     "text": [
      "[3, 2, 1]\n"
     ]
    }
   ],
   "source": [
    "x = [1, 2, 3]\n",
    "x.reverse()\n",
    "print(x)"
   ]
  },
  {
   "cell_type": "code",
   "execution_count": 16,
   "metadata": {},
   "outputs": [],
   "source": [
    "#Shape1\n",
    "x = [95.81608347,249.1218171,359.3044234]\n",
    "y = [23.76814889,26.09464349,57.38339297]"
   ]
  },
  {
   "cell_type": "code",
   "execution_count": 17,
   "metadata": {},
   "outputs": [
    {
     "name": "stderr",
     "output_type": "stream",
     "text": [
      "C:\\Users\\sebas\\Anaconda3\\lib\\site-packages\\scipy\\optimize\\minpack.py:794: OptimizeWarning: Covariance of the parameters could not be estimated\n",
      "  category=OptimizeWarning)\n"
     ]
    },
    {
     "data": {
      "text/plain": [
       "(array([ 1.68085670e+06, -4.41606468e+01,  3.57487285e+01]),\n",
       " array([[inf, inf, inf],\n",
       "        [inf, inf, inf],\n",
       "        [inf, inf, inf]]))"
      ]
     },
     "execution_count": 17,
     "metadata": {},
     "output_type": "execute_result"
    }
   ],
   "source": [
    "y_min = min(y)\n",
    "y_max = max(y)\n",
    "x_avg = (x[0] + x[m-1])/2\n",
    "\n",
    "A_0 = np.exp(-x_avg/y_max)\n",
    "B_0 = 1/y_max\n",
    "C_0 = y_min\n",
    "\n",
    "#curve_fit(lambda t,a,b,c: a*np.exp(b*t)+c,  x,  y, p0=(A_0, B_0, C_0))\n",
    "curve_fit(lambda t,a,b,c: a*np.exp(b*t)+c,  x,  y, p0=(400, -0.065, 27))"
   ]
  },
  {
   "cell_type": "code",
   "execution_count": 18,
   "metadata": {},
   "outputs": [
    {
     "data": {
      "text/plain": [
       "[<matplotlib.lines.Line2D at 0x21071955c88>]"
      ]
     },
     "execution_count": 18,
     "metadata": {},
     "output_type": "execute_result"
    },
    {
     "data": {
      "image/png": "[encoded data removed]",
      "text/plain": [
       "<Figure size 432x288 with 1 Axes>"
      ]
     },
     "metadata": {
      "needs_background": "light"
     },
     "output_type": "display_data"
    }
   ],
   "source": [
    "m = len(x)\n",
    "\n",
    "xs = np.linspace(x[0],x[m-1],1000)\n",
    "\n",
    "A = 0.006\n",
    "B = 0.024\n",
    "C = 23.7\n",
    "\n",
    "ys = A * np.exp(B*xs) + C\n",
    "\n",
    "plt.plot(x, y, 'ro', ms=5)\n",
    "plt.plot(xs, ys, 'b', lw=3)"
   ]
  },
  {
   "cell_type": "code",
   "execution_count": 19,
   "metadata": {},
   "outputs": [],
   "source": [
    "#Shape2\n",
    "x = [0, 0.495, 0.99]\n",
    "y = [1, 0.754975, 0.0199]"
   ]
  },
  {
   "cell_type": "code",
   "execution_count": 20,
   "metadata": {},
   "outputs": [
    {
     "data": {
      "text/plain": [
       "[<matplotlib.lines.Line2D at 0x21071de2eb8>]"
      ]
     },
     "execution_count": 20,
     "metadata": {},
     "output_type": "execute_result"
    },
    {
     "data": {
      "image/png": "[encoded data removed]",
      "text/plain": [
       "<Figure size 432x288 with 1 Axes>"
      ]
     },
     "metadata": {
      "needs_background": "light"
     },
     "output_type": "display_data"
    }
   ],
   "source": [
    "m = len(x)\n",
    "\n",
    "xs = np.linspace(x[0],x[m-1],1000)\n",
    "\n",
    "A = -0.1225\n",
    "B = 2.219\n",
    "C = 1.123\n",
    "\n",
    "ys = A * np.exp(B*xs) + C\n",
    "\n",
    "plt.plot(x, y, 'ro', ms=5)\n",
    "plt.plot(xs, ys, 'b', lw=3)"
   ]
  },
  {
   "cell_type": "code",
   "execution_count": 21,
   "metadata": {},
   "outputs": [],
   "source": [
    "#Shape3\n",
    "x = [51.10191118,100.6052411,223.5708615]\n",
    "y = [42.28049668,26.27784215,26.509831]"
   ]
  },
  {
   "cell_type": "code",
   "execution_count": 22,
   "metadata": {
    "scrolled": false
   },
   "outputs": [
    {
     "data": {
      "text/plain": [
       "[<matplotlib.lines.Line2D at 0x21072e20d30>]"
      ]
     },
     "execution_count": 22,
     "metadata": {},
     "output_type": "execute_result"
    },
    {
     "data": {
      "image/png": "[encoded data removed]",
      "text/plain": [
       "<Figure size 432x288 with 1 Axes>"
      ]
     },
     "metadata": {
      "needs_background": "light"
     },
     "output_type": "display_data"
    }
   ],
   "source": [
    "m = len(x)\n",
    "\n",
    "xs = np.linspace(x[0],x[m-1],1000)\n",
    "\n",
    "A = 400\n",
    "B = -0.063\n",
    "C = 27\n",
    "\n",
    "ys = A * np.exp(B*xs) + C\n",
    "\n",
    "plt.plot(x, y, 'ro', ms=5)\n",
    "plt.plot(xs, ys, 'b', lw=3)"
   ]
  },
  {
   "cell_type": "markdown",
   "metadata": {},
   "source": [
    "1) EXPONENTIAL FUNCTION"
   ]
  },
  {
   "cell_type": "code",
   "execution_count": 23,
   "metadata": {},
   "outputs": [],
   "source": [
    "#Shape1\n",
    "x = [95.81608347,249.1218171,359.3044234]\n",
    "y = [23.76814889,26.09464349,57.38339297]"
   ]
  },
  {
   "cell_type": "code",
   "execution_count": 24,
   "metadata": {},
   "outputs": [
    {
     "data": {
      "text/plain": [
       "[<matplotlib.lines.Line2D at 0x21072e4d9e8>]"
      ]
     },
     "execution_count": 24,
     "metadata": {},
     "output_type": "execute_result"
    },
    {
     "data": {
      "image/png": "[encoded data removed]",
      "text/plain": [
       "<Figure size 432x288 with 1 Axes>"
      ]
     },
     "metadata": {
      "needs_background": "light"
     },
     "output_type": "display_data"
    }
   ],
   "source": [
    "m = len(x)\n",
    "\n",
    "C = np.linspace(23.7,23.7,1)\n",
    "\n",
    "w = np.power(y - C,1)\n",
    "\n",
    "ln_y = np.log(y - C)\n",
    "sp = polynomial(x,ln_y,1,w)\n",
    "\n",
    "xs = np.linspace(x[0],x[m-1],1000)\n",
    "y_pred = np.exp(sp(xs))\n",
    "\n",
    "plt.plot(x, y, 'ro', ms=5)\n",
    "plt.plot(xs, y_pred + C, 'b', lw=3)"
   ]
  },
  {
   "cell_type": "code",
   "execution_count": 25,
   "metadata": {},
   "outputs": [],
   "source": [
    "#Shape2\n",
    "x = [0, 0.495, 0.99]\n",
    "y = [1, 0.754975, 0.0199]"
   ]
  },
  {
   "cell_type": "code",
   "execution_count": 26,
   "metadata": {},
   "outputs": [
    {
     "data": {
      "text/plain": [
       "[<matplotlib.lines.Line2D at 0x21072ec9320>]"
      ]
     },
     "execution_count": 26,
     "metadata": {},
     "output_type": "execute_result"
    },
    {
     "data": {
      "image/png": "[encoded data removed]",
      "text/plain": [
       "<Figure size 432x288 with 1 Axes>"
      ]
     },
     "metadata": {
      "needs_background": "light"
     },
     "output_type": "display_data"
    }
   ],
   "source": [
    "m = len(x)\n",
    "\n",
    "C = np.linspace(1.001,1.001,1)\n",
    "min1 = np.linspace(-1,-1,1)\n",
    "\n",
    "w = np.power(min1*(y - C),1)\n",
    "\n",
    "ln_y = np.log(min1*(y - C))\n",
    "sp = polynomial(x,ln_y,1,w)\n",
    "\n",
    "xs = np.linspace(x[0],x[m-1],1000)\n",
    "y_pred = np.exp(sp(xs))\n",
    "\n",
    "plt.plot(x, y, 'ro', ms=5)\n",
    "plt.plot(xs, min1*(y_pred - C), 'b', lw=3)"
   ]
  },
  {
   "cell_type": "code",
   "execution_count": 27,
   "metadata": {},
   "outputs": [],
   "source": [
    "#Shape3\n",
    "x = [51.10191118,100.6052411,223.5708615]\n",
    "y = [42.28049668,26.27784215,26.509831]"
   ]
  },
  {
   "cell_type": "code",
   "execution_count": 28,
   "metadata": {},
   "outputs": [
    {
     "data": {
      "text/plain": [
       "[<matplotlib.lines.Line2D at 0x21072f34e48>]"
      ]
     },
     "execution_count": 28,
     "metadata": {},
     "output_type": "execute_result"
    },
    {
     "data": {
      "image/png": "[encoded data removed]",
      "text/plain": [
       "<Figure size 432x288 with 1 Axes>"
      ]
     },
     "metadata": {
      "needs_background": "light"
     },
     "output_type": "display_data"
    }
   ],
   "source": [
    "m = len(x)\n",
    "\n",
    "C = np.linspace(26.27784214,26.27784214,1)\n",
    "\n",
    "w = np.power(y - C,1)\n",
    "\n",
    "ln_y = np.log(y - C)\n",
    "sp = polynomial(x,ln_y,1,w)\n",
    "\n",
    "xs = np.linspace(x[0],x[m-1],1000)\n",
    "y_pred = np.exp(sp(xs))\n",
    "\n",
    "plt.plot(x, y, 'ro', ms=5)\n",
    "plt.plot(xs, y_pred + C, 'b', lw=3)"
   ]
  },
  {
   "cell_type": "code",
   "execution_count": 29,
   "metadata": {},
   "outputs": [],
   "source": [
    "#Shape4\n",
    "x = [51.10191118,100.6052411,223.5708615]\n",
    "y = [57.17892445,72.74037707,72.29501013]"
   ]
  },
  {
   "cell_type": "code",
   "execution_count": 30,
   "metadata": {},
   "outputs": [
    {
     "data": {
      "text/plain": [
       "[<matplotlib.lines.Line2D at 0x21072f515c0>]"
      ]
     },
     "execution_count": 30,
     "metadata": {},
     "output_type": "execute_result"
    },
    {
     "data": {
      "image/png": "[encoded data removed]",
      "text/plain": [
       "<Figure size 432x288 with 1 Axes>"
      ]
     },
     "metadata": {
      "needs_background": "light"
     },
     "output_type": "display_data"
    }
   ],
   "source": [
    "m = len(x)\n",
    "\n",
    "C = np.linspace(72.75,72.75,1)\n",
    "min1 = np.linspace(-1,-1,1)\n",
    "\n",
    "w = np.power(min1*(y - C),1)\n",
    "\n",
    "ln_y = np.log(min1*(y - C))\n",
    "sp = polynomial(x,ln_y,1,w)\n",
    "\n",
    "xs = np.linspace(x[0],x[m-1],1000)\n",
    "y_pred = np.exp(sp(xs))\n",
    "\n",
    "plt.plot(x, y, 'ro', ms=5)\n",
    "plt.plot(xs, min1*(y_pred - C), 'b', lw=3)"
   ]
  },
  {
   "cell_type": "markdown",
   "metadata": {},
   "source": [
    "2) LOGARITHMIC FUNCTION"
   ]
  },
  {
   "cell_type": "code",
   "execution_count": 31,
   "metadata": {},
   "outputs": [],
   "source": [
    "#Shape1\n",
    "x = [95.81608347,249.1218171,359.3044234]\n",
    "y = [23.76814889,26.09464349,57.38339297]"
   ]
  },
  {
   "cell_type": "code",
   "execution_count": 32,
   "metadata": {},
   "outputs": [
    {
     "data": {
      "image/png": "[encoded data removed]",
      "text/plain": [
       "<Figure size 432x288 with 1 Axes>"
      ]
     },
     "metadata": {
      "needs_background": "light"
     },
     "output_type": "display_data"
    }
   ],
   "source": [
    "x = np.array(x)\n",
    "\n",
    "m = len(x)\n",
    "\n",
    "x_rev = list(reversed(x))\n",
    "y_rev = list(reversed(y))\n",
    "\n",
    "C = x[-1] + 10**-3*(x[-1] - x[0])\n",
    "\n",
    "ln_x = np.log(-(x_rev - C))\n",
    "sp = polynomial(ln_x,y_rev,1)\n",
    "\n",
    "xs = np.linspace(min1*(x_rev[0] - C), min1*(x_rev[m-1] - C),1000)\n",
    "ln_xs = np.log(xs)\n",
    "y_pred = sp(ln_xs)\n",
    "\n",
    "plt.plot(x, y, 'ro', ms=5)\n",
    "plt.plot(min1*(xs - C), y_pred, 'b', lw=3)\n",
    "\n",
    "x_log = list(reversed(min1*(xs - C)))\n",
    "y_log = list(reversed(y_pred))"
   ]
  },
  {
   "cell_type": "code",
   "execution_count": 33,
   "metadata": {},
   "outputs": [],
   "source": [
    "#Shape2\n",
    "x = [0, 0.495, 0.99]\n",
    "y = [1, 0.754975, 0.0199]"
   ]
  },
  {
   "cell_type": "code",
   "execution_count": 34,
   "metadata": {},
   "outputs": [
    {
     "data": {
      "image/png": "[encoded data removed]",
      "text/plain": [
       "<Figure size 432x288 with 1 Axes>"
      ]
     },
     "metadata": {
      "needs_background": "light"
     },
     "output_type": "display_data"
    }
   ],
   "source": [
    "x = np.array(x)\n",
    "\n",
    "m = len(x)\n",
    "\n",
    "x_rev = list(reversed(x))\n",
    "y_rev = list(reversed(y))\n",
    "\n",
    "C = x[-1] + 10**-3*(x[-1] - x[0])\n",
    "min1 = np.linspace(-1,-1,1)\n",
    "\n",
    "ln_x = np.log(min1*(x_rev - C))\n",
    "sp = polynomial(ln_x,y_rev,1)\n",
    "\n",
    "xs = np.linspace(min1*(x_rev[0] - C), min1*(x_rev[m-1] - C),1000)\n",
    "ln_xs = np.log(xs)\n",
    "y_pred = sp(ln_xs)\n",
    "\n",
    "plt.plot(x, y, 'ro', ms=5)\n",
    "plt.plot(min1*(xs - C), y_pred, 'b', lw=3)\n",
    "\n",
    "x_log = list(reversed(min1*(xs - C)))\n",
    "y_log = list(reversed(y_pred))"
   ]
  },
  {
   "cell_type": "code",
   "execution_count": 35,
   "metadata": {},
   "outputs": [],
   "source": [
    "#Shape3\n",
    "x = [51.10191118,100.6052411,223.5708615]\n",
    "y = [42.28049668,26.27784215,26.509831]"
   ]
  },
  {
   "cell_type": "code",
   "execution_count": 36,
   "metadata": {},
   "outputs": [
    {
     "data": {
      "image/png": "[encoded data removed]",
      "text/plain": [
       "<Figure size 432x288 with 1 Axes>"
      ]
     },
     "metadata": {
      "needs_background": "light"
     },
     "output_type": "display_data"
    }
   ],
   "source": [
    "x = np.array(x)\n",
    "\n",
    "m = len(x)\n",
    "\n",
    "C = x[0] - 10**-3*(x[-1] - x[0])\n",
    "\n",
    "ln_x = np.log(x - C)\n",
    "sp = polynomial(ln_x,y,1)\n",
    "\n",
    "xs = np.linspace(x[0] - C,x[m-1] - C,1000)\n",
    "ln_xs = np.log(xs)\n",
    "y_pred = sp(ln_xs)\n",
    "\n",
    "plt.plot(x, y, 'ro', ms=5)\n",
    "plt.plot(xs + C, y_pred, 'b', lw=3)\n",
    "\n",
    "x_log = xs + C\n",
    "y_log = y_pred"
   ]
  },
  {
   "cell_type": "code",
   "execution_count": 37,
   "metadata": {},
   "outputs": [],
   "source": [
    "#Shape4\n",
    "x = [51.10191118,100.6052411,223.5708615]\n",
    "y = [57.17892445,72.74037707,72.29501013]"
   ]
  },
  {
   "cell_type": "code",
   "execution_count": 38,
   "metadata": {},
   "outputs": [
    {
     "name": "stdout",
     "output_type": "stream",
     "text": [
      "[-1.75753806  3.90551787  5.15121672]\n",
      "[61.66240213]\n",
      "73.81998033090886\n",
      "57.51437118642284\n"
     ]
    },
    {
     "data": {
      "image/png": "[encoded data removed]",
      "text/plain": [
       "<Figure size 432x288 with 1 Axes>"
      ]
     },
     "metadata": {
      "needs_background": "light"
     },
     "output_type": "display_data"
    }
   ],
   "source": [
    "x = np.array(x)\n",
    "\n",
    "m = len(x)\n",
    "\n",
    "C = x[0] - 10**-3*(x[-1] - x[0])\n",
    "\n",
    "ln_x = np.log(x - C)\n",
    "sp = polynomial(ln_x,y,1)\n",
    "\n",
    "print(ln_x)\n",
    "\n",
    "print(sp([0]))\n",
    "\n",
    "coefficients = sp.get_coeffs()\n",
    "\n",
    "A = coefficients[1]\n",
    "B = coefficients[0]\n",
    "\n",
    "print(A)\n",
    "print(B)\n",
    "\n",
    "xs = np.linspace(x[0] - C,x[m-1] - C,1000)\n",
    "ln_xs = np.log(xs)\n",
    "y_pred = sp(ln_xs)\n",
    "\n",
    "plt.plot(x, y, 'ro', ms=5)\n",
    "plt.plot(xs + C, y_pred, 'b', lw=3)\n",
    "\n",
    "x_log = xs + C\n",
    "y_log = y_pred"
   ]
  },
  {
   "cell_type": "code",
   "execution_count": 5,
   "metadata": {},
   "outputs": [],
   "source": [
    "def log_fit(x, y):\n",
    "    \n",
    "    '''\n",
    "    Fits logarithm to a dataset defined by the lists x and y\n",
    "    \n",
    "    The fitted function is:\n",
    "    \n",
    "    y = A*ln(±(x-C)) + B\n",
    "    \n",
    "    The algorithm returns the values for the constants A, B and C, and the sign before (x-C)\n",
    "    '''\n",
    "    \n",
    "    x = np.array(x)           # list x is turned into a Numpy-array\n",
    "    y = np.array(y)           # list y is turned into a Numpy-array\n",
    "    \n",
    "    m = len(x)\n",
    "    \n",
    "    '''\n",
    "    First, the function y = A*ln(x-C) + B is fitted to the data\n",
    "    \n",
    "    C is a constant which is slightly lower than x_min, the lowest x-value\n",
    "    '''\n",
    "    \n",
    "    C_plus = estimate_C(x, y, 1)                  # A value for the constant C is estimated\n",
    "    \n",
    "    ln_x = np.log(x - C_plus)                     # ln(x - C) is calculated\n",
    "    \n",
    "    sp = polynomial(ln_x,y,1)                     # y = A*ln(x - C) + B is now fitted to obtain the parameters A and B\n",
    "    \n",
    "    B_plus = sp([0])                              # y = A*0 + B equals the parameter B\n",
    "    \n",
    "    A_plus = sp([1]) - B_plus                     # A = (y - B)/ln(x - C); the value 1 is arbitrarily chosen for ln(x - C) to calculate this\n",
    "\n",
    "    res_plus = log_residual(x, y, A_plus, B_plus, C_plus, 1)      # The residual is calculated for this logarithmic fit\n",
    "    \n",
    "    '''\n",
    "    Then, the function y = A*ln(-(x-C)) + B is fitted to the data\n",
    "    \n",
    "    C is now a constant which is slightly higher than x_max, the highest x-value\n",
    "    '''\n",
    "    \n",
    "    C_min = estimate_C(x, y, -1)                  # A value for the constant C is estimated \n",
    "    \n",
    "    x = np.array(list(reversed(x)))               # The lists x and y are reversed, as x will be multiplied by -1 later\n",
    "    y = np.array(list(reversed(y)))               # and x must increase for the UnivariateSpline algorithm\n",
    "        \n",
    "    ln_x = np.log(-(x - C_min))                   # ln(-(x - C)) is calculated\n",
    "    \n",
    "    sp = polynomial(ln_x,y,1)                     # y = A*ln(-(x - C)) + B is now fitted to obtain the parameters A and B\n",
    "    \n",
    "    B_min = sp([0])                               # y = A*0 + B equals the parameter B\n",
    "    \n",
    "    A_min = sp([1]) - B_min                       # A = (y - B)/ln(-(x - C)); the value 1 is arbitrarily chosen for ln(-(x - C)) to calculate this\n",
    "        \n",
    "    res_min = log_residual(x, y, A_min, B_min, C_min, -1)         # The residual is calculated for this logarithmic fit\n",
    "    \n",
    "    if res_min > res_plus:                        # If the logarithm y = A*ln(x-C) + B has a better fit than A*ln(-(x-C)) + B,\n",
    "                                                  # The results of the former are returned\n",
    "        return A_plus, B_plus, C_plus, 1\n",
    "    \n",
    "    else:                                         # Otherwise, the results for the latter are returned\n",
    "        \n",
    "        return A_min, B_min, C_min, -1"
   ]
  },
  {
   "cell_type": "code",
   "execution_count": 6,
   "metadata": {},
   "outputs": [],
   "source": [
    "def remove_repeats_at_extremes(x, y):\n",
    "    \n",
    "    '''\n",
    "    If there are points with the x-values x_min or x_max, they are replaced by one points with the average of\n",
    "    their corresponding y-values\n",
    "    \n",
    "    For example:\n",
    "    \n",
    "    x = [1,1,1,2,3,4,4]\n",
    "    y = [1,2,3,4,4,5,7]\n",
    "    \n",
    "    New lists:\n",
    "    \n",
    "    x = [1,2,3,4]\n",
    "    y = [2,4,4,6]\n",
    "    '''\n",
    "    \n",
    "    m = len(x)\n",
    "    \n",
    "    '''\n",
    "    First, all points with the value x_min are checked\n",
    "    \n",
    "    x_min corresponds to the first x-value x[0]\n",
    "    '''\n",
    "    \n",
    "    y_tot = y[0]              # The y-values of all points with x-value x_min will be added to this sum\n",
    "    \n",
    "    i = 1                     # Counts how many points have the x-value x_min\n",
    "    \n",
    "    while x[1] == x[0]:       # If x[1] equals x[0], the point with index 1 (second point) must be removed\n",
    "        \n",
    "        y_tot += y[1]         # y[1] is added to the sum of the y-values\n",
    "        \n",
    "        del x[1]              # The point with index 1 is removed\n",
    "        del y[1]              # In the next iteration, a new point will have index 1\n",
    "        \n",
    "        i += 1                # The counter i is updated\n",
    "        \n",
    "    y[0] = y_tot/i            # The average of the y-values of all points with x-value x_min\n",
    "    \n",
    "    '''\n",
    "    Next, all points with the value x_max are checked\n",
    "    \n",
    "    x_max corresponds to the last x-value x[-1]\n",
    "    '''\n",
    "    \n",
    "    y_tot = y[-1]             # The y-values of all points with x-value x_max will be added to this sum\n",
    "    \n",
    "    i = 1                     # Counts how many points have the x-value x_max\n",
    "    \n",
    "    while x[-2] == x[-1]:     # If x[-2] equals x[-1], the point with index -2 (second to last point) must be removed\n",
    "        \n",
    "        y_tot += y[-2]        # y[-2] is added to the sum of the y-values\n",
    "        \n",
    "        del x[-2]             # The point with index -2 is removed\n",
    "        del y[-2]             # In the next iteration, a new point will have index -2\n",
    "        \n",
    "        i += 1                # The counter i is updated\n",
    "        \n",
    "    y[-1] = y_tot/i           # The average of the y-values of all points with x-value x_max\n",
    "    \n",
    "    return x, y"
   ]
  },
  {
   "cell_type": "code",
   "execution_count": 18,
   "metadata": {},
   "outputs": [],
   "source": [
    "def estimate_C(x, y, sign_x):\n",
    "    \n",
    "    '''\n",
    "    An equation is used to estimate C in y = A*ln(±(x-C)) + B\n",
    "    \n",
    "    -------------------------------------------------------------------------\n",
    "    \n",
    "    For y = A*ln(x-C) + B, the equation is:\n",
    "    \n",
    "    C = ( x3 - x1 * exp(k) ) / ( 1 - exp(k) )   with   k = (y3 - y1) / (y2 - y3) * ln(α)\n",
    "    \n",
    "    In this equation, x1 and x3 represents the first and last x-value in the considered interval respectively.\n",
    "    \n",
    "    x2 is a point between these two, which can also be written as x2 = x1 + α*(x3 - x1) = α*x3 + (1-α)*x1\n",
    "    \n",
    "    yi represents the y-value corresponding to xi.\n",
    "    \n",
    "    This equation estimates the C-value necessary to to fit an exponential between three points and was derived\n",
    "    under the assumption that x3 - C >> x1 - C, which means that x1 is relatively close to C\n",
    "    \n",
    "    -------------------------------------------------------------------------\n",
    "    \n",
    "    For y = A*ln(-(x-C)) + B, the equation is:\n",
    "    \n",
    "    C = ( x1 - x3 * exp(k) ) / ( 1 - exp(k) )   with   k = (y1 - y3) / (y2 - y1) * ln(1 - α)\n",
    "    \n",
    "    This equation was derived under the assumption that C - x1 >> C - x3, which means that x3 is relatively close to C\n",
    "    \n",
    "    --------------------------------------------------------------------------\n",
    "    \n",
    "    To constant C is estimated for all data points (x2,y2) with an x-value between x1 and x3\n",
    "    \n",
    "    The average of the different C-values is then taken as the final estimate.\n",
    "    '''\n",
    "    \n",
    "    x, y = remove_repeats_at_extremes(x, y)  # Repeats are removed at the extremes of the considered intervals, see the function for more information\n",
    "    \n",
    "    m = len(x)           # Number of data points\n",
    "    \n",
    "    C_est = []           # The estimates for C are stored in this list\n",
    "    \n",
    "    for i in range(1, m-1):\n",
    "        \n",
    "        alpha = (x[i] - x[0])/(x[-1] - x[0])                    # Calculate α: x2 = x1 + α*(x3 - x1) ⇒ α = (x2 - x1)/(x3 - x1)\n",
    "        \n",
    "        if sign_x == 1:                                        \n",
    "        \n",
    "            k = np.log(alpha)*(y[-1] - y[0])/(y[i] - y[-1])     # The factor k is calculated as an intermediate calculation\n",
    "        \n",
    "            C = (x[-1] - x[0]*np.exp(k))/(1 - np.exp(k))        # C is estimated\n",
    "            \n",
    "        else:\n",
    "            \n",
    "            k = np.log(1 - alpha)*(y[0] - y[-1])/(y[i] - y[0])  # The factor k is calculated as an intermediate calculation\n",
    "        \n",
    "            C = (x[0] - x[-1]*np.exp(k))/(1 - np.exp(k))        # C is estimated\n",
    "        \n",
    "        if C > x[0] - (x[-1] - x[0]) and C < x[-1] + (x[-1] - x[0]):\n",
    "            \n",
    "            C_est.append(C)                    # The estimation is added to C_est\n",
    "        \n",
    "    print(\"C_est =\", C_est)\n",
    "        \n",
    "    C_est_avg = sum(C_est)/len(C_est)      # The average of the estimates is taken\n",
    "    \n",
    "    '''\n",
    "    For y = A*ln(x-C) + B, C cannot be equal to or larger than the smallest x-value x1,\n",
    "    as the logarithm cannot be calculated if x - C ≤ 0\n",
    "    \n",
    "    For this reason, C is estimated as x1 - 10^(-10)*(x3 - x1) if C ≥ x1\n",
    "    \n",
    "    ---------------------------------------------------------\n",
    "    \n",
    "    For y = A*ln(-(x-C)) + B, C cannot be equal to or smaller than the largest x-value x3,\n",
    "    as the logarithm cannot be calculated if x - C ≥ 0\n",
    "    \n",
    "    For this reason, C is estimated as x3 + 10^(-10)*(x3 - x1) if C ≤ x3\n",
    "    '''\n",
    "    \n",
    "    if sign_x == 1 and C_est_avg > x[0] - 10**-10*(x[-1] - x[0]):      \n",
    "        \n",
    "        return x[0] - 10**-10*(x[-1] - x[0])\n",
    "    \n",
    "    elif sign_x == -1 and C_est_avg < x[-1] + 10**-10*(x[-1] - x[0]):\n",
    "    \n",
    "        return x[-1] + 10**-10*(x[-1] - x[0])\n",
    "    \n",
    "    else:\n",
    "    \n",
    "        return C_est_avg"
   ]
  },
  {
   "cell_type": "code",
   "execution_count": 8,
   "metadata": {},
   "outputs": [],
   "source": [
    "def log_residual(x, y, A, B, C, sign_x):\n",
    "    \n",
    "    '''\n",
    "    Calculates the residual of a logarithmic fit\n",
    "    '''\n",
    "    \n",
    "    m = len(x)\n",
    "    \n",
    "    res_tot = 0\n",
    "    \n",
    "    for i in range(0, m):\n",
    "        \n",
    "        y_pred = A*np.log(sign_x*(x[i] - C)) + B\n",
    "        \n",
    "        res = (y[i] - y_pred)**2\n",
    "        \n",
    "        res_tot += res\n",
    "        \n",
    "    return res_tot"
   ]
  },
  {
   "cell_type": "code",
   "execution_count": 9,
   "metadata": {},
   "outputs": [],
   "source": [
    "def log_primitives(A, B, C, sign_x, x):\n",
    "    \n",
    "    '''\n",
    "    Returns two lists storing the evolution of the signs of the first and second derivative of a logarithmic function, and a list with the extremes of the intervals\n",
    "    \n",
    "    For example:\n",
    "    \n",
    "    shape1 = [1, -1, 0, 1]\n",
    "    shape2 = [1, 1, 0, 0]\n",
    "    extremes = [0, 0.5, 1, 2.5, 4]\n",
    "    \n",
    "    Between x-values 0 and 0.5: first derivative is positive (1), second dertivative is positive (1)\n",
    "    Between x-values 0.5 and 1: first derivative is negative (-1), second derivative is positive (1)\n",
    "    Between x-values 1 and 2.5: first derivative is close to zero (0), second dertivative is close to zero (0)\n",
    "    Between x-values 2.5 and 4: first derivative is positive (1), second derivative is close to zero (0)\n",
    "    '''\n",
    "    \n",
    "    xs = np.linspace(x[0],x[-1],100)          # Points where derivatives are calculated\n",
    "    ys = A*np.log(sign_x*(xs - C)) + B\n",
    "    \n",
    "    ys_der_1 = A/(xs - C)\n",
    "    ys_der_2 = -A/np.square(xs - C)\n",
    "    \n",
    "    x_m = x[-1] - x[0]                        # x_max - x_min\n",
    "    y_m = max(ys) - min(ys)                   # y_max - y_min\n",
    "    \n",
    "    shape1, shape2 = [], []                         # Lists containing the signs\n",
    "    extremes = []                                   # List containing the extremes of the intervals\n",
    "    \n",
    "    if np.abs(ys_der_1[0])*x_m/y_m < 0.5:                # If the normalised first derivative is lower than 0.5, it's considered 0\n",
    "        sign_der1 = 0\n",
    "            \n",
    "    else:\n",
    "        sign_der1 = int(np.sign(ys_der_1[0]))\n",
    "            \n",
    "    if np.abs(ys_der_2[0])*np.square(x_m)/y_m < 1 or sign_der1 == 0:       # If the normalised derivative is lower than 1, it's considered 0\n",
    "        sign_der2 = 0                                                   # If the first derivative equals 0, both derivatives are set to 0\n",
    "        \n",
    "    else:\n",
    "        sign_der2 = int(np.sign(ys_der_2[0]))\n",
    "        \n",
    "    sign_change = True                                              # If the sign changes, this becomes True. It is used to make sure that two consecutive point have the same primitive\n",
    "        \n",
    "    for i in range(1,100):                                          # If one of the signs changes, the lists are updated with the new signs\n",
    "            \n",
    "        if np.abs(ys_der_1[i])*x_m/y_m < 0.5:                          # The previous equations for the derivatives are repeated for point i\n",
    "            sign_der1_new = 0\n",
    "            \n",
    "        else:\n",
    "            sign_der1_new = int(np.sign(ys_der_1[i]))\n",
    "            \n",
    "        if np.abs(ys_der_2[i])*np.square(x_m)/y_m < 1 or sign_der1_new == 0:\n",
    "            sign_der2_new = 0\n",
    "            \n",
    "        else:\n",
    "            sign_der2_new = int(np.sign(ys_der_2[i]))\n",
    "            \n",
    "        if sign_der1_new != sign_der1 or sign_der2_new != sign_der2:    # If sign changes, sign_change becomes True, or when i == 1 as this is the first point in the loop\n",
    "            sign_change = True\n",
    "            \n",
    "        elif sign_change == True:                                   # Two consecutive points have the same derivative\n",
    "                                                                        # (this elif-statement can only be reached if the previous once was False,\n",
    "            if shape1 == []:                                        # this means that there was no sign change this time)\n",
    "                extremes.append(x[0])\n",
    "                shape1.append(sign_der1_new)                        # If the shape-list is still empty, x[0] (the first point) is added to the list 'extremes'\n",
    "                shape2.append(sign_der2_new)\n",
    "                \n",
    "            elif shape1[-1] != sign_der1_new or shape2[-1] != sign_der2_new:\n",
    "                extremes.append(xs[i-1])                 \n",
    "                shape1.append(sign_der1_new)                        # If the shape-list is not empty, point i-1 is added to the list 'extremes'\n",
    "                shape2.append(sign_der2_new)                        # Neither of the if-statement are reached if signs are the same as for the signs in the shape-list\n",
    "                                                                        # as there is no need to have the same primitive twice consecutively\n",
    "                \n",
    "            sign_change = False         # 'sign_change' is set to False until a new sign change occurs\n",
    "            \n",
    "        sign_der1, sign_der2 = sign_der1_new, sign_der2_new         # Stored as der1 and der2 for the following iteration\n",
    "        \n",
    "    extremes.append(x[-1])               # Final x-value is also added to the list of extremes\n",
    "    \n",
    "    return shape1, shape2, extremes"
   ]
  },
  {
   "cell_type": "code",
   "execution_count": 10,
   "metadata": {},
   "outputs": [],
   "source": [
    "def primitivesstring(shape1, shape2):\n",
    "\n",
    "    '''\n",
    "    Creates list of strings with letters representing the primitives of the curve\n",
    "    \n",
    "    '''\n",
    "    \n",
    "    primitives = []         # List storing the strings\n",
    "    n = len(shape1)         # Number of primitives\n",
    "    \n",
    "    for i in range(0,n):\n",
    "        \n",
    "        if shape1[i] == 1 and shape2[i] == -1:        # Primitive A is represented by the signs 1 and -1\n",
    "            primitives.append('A')\n",
    "        \n",
    "        elif shape1[i] == -1 and shape2[i] == 1:      # Primitive A is represented by the signs -1 and 1\n",
    "            primitives.append('B')\n",
    "        \n",
    "        elif shape1[i] == 1 and shape2[i] == 1:       # Primitive A is represented by the signs 1 and 1\n",
    "            primitives.append('C')\n",
    "        \n",
    "        elif shape1[i] == -1 and shape2[i] == -1:     # Primitive A is represented by the signs -1 and -1\n",
    "            primitives.append('D')\n",
    "        \n",
    "        elif shape1[i] == 1 and shape2[i] == 0:       # Primitive A is represented by the signs 1 and 0\n",
    "            primitives.append('E')\n",
    "        \n",
    "        elif shape1[i] == -1 and shape2[i] == 0:      # Primitive A is represented by the signs -1 and 0\n",
    "            primitives.append('F')\n",
    "        \n",
    "        else:                                         # Primitive G is represented by the signs 0 and 0\n",
    "            primitives.append('G')\n",
    "    \n",
    "    return primitives"
   ]
  },
  {
   "cell_type": "code",
   "execution_count": 11,
   "metadata": {},
   "outputs": [],
   "source": [
    "def log_primitivesvisual(x, y, A, B, C, sign_x, extremes, p_string):\n",
    "    \n",
    "    '''\n",
    "    Visualises the features for a logarithmic curve\n",
    "    '''\n",
    "    \n",
    "    m = len(x)             # Number of data points\n",
    "    n = len(extremes)      # Number of extremes\n",
    "    \n",
    "    xs = np.linspace(x[0],x[-1],1000)       # Points to plot\n",
    "    ys = A*np.log(sign_x*(xs - C)) + B\n",
    "    \n",
    "    y_min, y_max = min([min(y),min(ys)]), max([max(y),max(ys)])          # Smallest and highest y-values reached by the spline and the data points \n",
    "    delta_y = y_max - y_min                                              # The range of y-values\n",
    "    \n",
    "    plt.plot(x, y, 'ro', ms=5)               # Data points are plotted in red\n",
    "    \n",
    "    '''\n",
    "    The data points have been plotted; now, the spline and its features need to plotted\n",
    "    '''\n",
    "    \n",
    "    for i in range(0,n-1):\n",
    "        \n",
    "        xs = np.linspace(extremes[i],extremes[i+1],1000)       # Points to plot for one primitive\n",
    "        ys = A*np.log(sign_x*(xs - C)) + B\n",
    "        \n",
    "        if p_string[i] == 'A':                             # If the primitive is A, the curve is plotted in green\n",
    "            plt.plot(xs, ys, 'g', lw=3)\n",
    "        \n",
    "        elif p_string[i] == 'B':                           # If the primitive is B, the curve is plotted in yellow\n",
    "            plt.plot(xs, ys, 'y', lw=3)\n",
    "        \n",
    "        elif p_string[i] == 'C':                           # If the primitive is C, the curve is plotted in blue\n",
    "            plt.plot(xs, ys, 'b', lw=3)\n",
    "        \n",
    "        elif p_string[i] == 'D':                           # If the primitive is D, the curve is plotted in red\n",
    "            plt.plot(xs, ys, 'r', lw=3)\n",
    "        \n",
    "        elif p_string[i] == 'E':                           # If the primitive is E, the curve is plotted in purple\n",
    "            plt.plot(xs, ys, color='#9400d3', lw=3)\n",
    "        \n",
    "        elif p_string[i] == 'F':                           # If the primitive is F, the curve is plotted in orange\n",
    "            plt.plot(xs, ys, color='#ff8c00', lw=3)\n",
    "        \n",
    "        else:                                              # If the primitive is G, the curve is plotted in grey\n",
    "            plt.plot(xs, ys, color='#808080', lw=3)\n",
    "        \n",
    "        xt = (extremes[i]+extremes[i+1])/2 - (extremes[n-1]-extremes[0])/40    # x-position where letter will be placed on graph\n",
    "        \n",
    "        if delta_y != 0:\n",
    "            \n",
    "            yt = y_min - 0.2*delta_y                       # y-position where letter will be placed on graph\n",
    " \n",
    "        elif y_min != 0:\n",
    "\n",
    "            yt = 0.95*y_min\n",
    "            \n",
    "        else:\n",
    "            \n",
    "            yt = -5\n",
    "        \n",
    "        plt.text(xt,yt,p_string[i],fontsize=15)            # Letter representing primitive is printed on graph\n",
    "    \n",
    "    '''\n",
    "    The black vertical lines are now plotted between the primitives\n",
    "    '''\n",
    "    \n",
    "    if delta_y != 0:\n",
    "        \n",
    "        yp = np.linspace(y_min - 0.2*delta_y, y_max + 0.2*delta_y, 1000)         # y points to plot in the vertical line\n",
    "    \n",
    "    elif y_min != 0:\n",
    "        \n",
    "        yp = np.linspace(0.95*y_min, 1.05*y_max, 1000)\n",
    "        \n",
    "    else:\n",
    "        \n",
    "        yp = np.linspace(-5, 5, 1000)\n",
    "    \n",
    "    for i in range(0,n):\n",
    "        \n",
    "        xp = [extremes[i]]*1000                # List with 1000 times the x-position of the line\n",
    "        \n",
    "        plt.plot(xp, yp, 'k', lw=2)          # Vertical line is plotted"
   ]
  },
  {
   "cell_type": "code",
   "execution_count": 12,
   "metadata": {},
   "outputs": [],
   "source": [
    "def log_rvalue(A, B, C, sign_x, x, y):\n",
    "   \n",
    "    '''\n",
    "    Calculates multiple correlation coefficient R of a spline fit\n",
    "    '''\n",
    "    \n",
    "    ssy = np.sum(np.square(A*np.log(sign_x*(x - C)) + B))      # Sum of squares of prediction\n",
    "    sse = log_residual(x, y, A, B, C, sign_x)                  # Sum of squares of error\n",
    "    R = np.sqrt(ssy/(sse+ssy))                                 # Multiple correlation coefficient\n",
    "    \n",
    "    return R"
   ]
  },
  {
   "cell_type": "code",
   "execution_count": 13,
   "metadata": {},
   "outputs": [
    {
     "name": "stdout",
     "output_type": "stream",
     "text": [
      "C = 359.30531407179194\n",
      "shape1 = [0, 1]\n",
      "shape2 = [0, 1]\n",
      "extremes = [95.81608347, 319.38194765303035, 359.3044234]\n",
      "R = [1.]\n"
     ]
    },
    {
     "data": {
      "image/png": "[encoded data removed]",
      "text/plain": [
       "<Figure size 432x288 with 1 Axes>"
      ]
     },
     "metadata": {
      "needs_background": "light"
     },
     "output_type": "display_data"
    }
   ],
   "source": [
    "#Shape1\n",
    "x = [95.81608347,249.1218171,359.3044234]\n",
    "y = [23.76814889,26.09464349,57.38339297]\n",
    "\n",
    "A, B, C, sign_x = log_fit(x,y)\n",
    "\n",
    "print(\"C =\", C)\n",
    "\n",
    "m = len(x)\n",
    "\n",
    "xs = np.linspace(x[0], x[-1],1000)\n",
    "ys = A*np.log(sign_x*(xs - C)) + B\n",
    "\n",
    "shape1, shape2, extremes = log_primitives(A, B, C, sign_x, x)\n",
    "p_string = primitivesstring(shape1, shape2)\n",
    "\n",
    "log_primitivesvisual(x, y, A, B, C, sign_x, extremes, p_string)\n",
    "\n",
    "R = log_rvalue(A, B, C, sign_x, x, y)\n",
    "\n",
    "print(\"shape1 =\", shape1)\n",
    "print(\"shape2 =\", shape2)\n",
    "print(\"extremes =\", extremes)\n",
    "print(\"R =\", R)"
   ]
  },
  {
   "cell_type": "code",
   "execution_count": 14,
   "metadata": {},
   "outputs": [
    {
     "name": "stdout",
     "output_type": "stream",
     "text": [
      "C = 1.056\n",
      "shape1 = [0, -1, -1]\n",
      "shape2 = [0, 0, -1]\n",
      "extremes = [0, 0.35000000000000003, 0.47000000000000003, 0.99]\n",
      "R = [0.99991126]\n",
      "C_new = [1.05459752]\n"
     ]
    },
    {
     "data": {
      "image/png": "[encoded data removed]",
      "text/plain": [
       "<Figure size 432x288 with 1 Axes>"
      ]
     },
     "metadata": {
      "needs_background": "light"
     },
     "output_type": "display_data"
    }
   ],
   "source": [
    "#Shape2\n",
    "x = [0, 0.495, 0.99]\n",
    "y = [1, 0.754975, 0.0199]\n",
    "\n",
    "A, B, C, sign_x = log_fit(x,y)\n",
    "\n",
    "print(\"C =\", C)\n",
    "\n",
    "m = len(x)\n",
    "\n",
    "xs = np.linspace(x[0], x[-1],1000)\n",
    "ys = A*np.log(sign_x*(xs - C)) + B\n",
    "\n",
    "shape1, shape2, extremes = log_primitives(A, B, C, sign_x, x)\n",
    "p_string = primitivesstring(shape1, shape2)\n",
    "\n",
    "log_primitivesvisual(x, y, A, B, C, sign_x, extremes, p_string)\n",
    "\n",
    "R = log_rvalue(A, B, C, sign_x, x, y)\n",
    "\n",
    "print(\"shape1 =\", shape1)\n",
    "print(\"shape2 =\", shape2)\n",
    "print(\"extremes =\", extremes)\n",
    "print(\"R =\", R)\n",
    "\n",
    "C_new = (x[0] - x[-1]*np.exp((y[0] - y[-1])/A))/(1 - np.exp((y[0] - y[-1])/A))\n",
    "print(\"C_new =\", C_new)"
   ]
  },
  {
   "cell_type": "code",
   "execution_count": 44,
   "metadata": {},
   "outputs": [
    {
     "name": "stdout",
     "output_type": "stream",
     "text": [
      "shape1 = [-1, 0]\n",
      "shape2 = [1, 0]\n",
      "extremes = [51.10191118, 66.78090666363636, 223.5708615]\n",
      "R = [0.99990214]\n"
     ]
    },
    {
     "data": {
      "image/png": "[encoded data removed]",
      "text/plain": [
       "<Figure size 432x288 with 1 Axes>"
      ]
     },
     "metadata": {
      "needs_background": "light"
     },
     "output_type": "display_data"
    }
   ],
   "source": [
    "#Shape3\n",
    "x = [51.10191118,100.6052411,223.5708615]\n",
    "y = [42.28049668,26.27784215,26.509831]\n",
    "\n",
    "A, B, C, sign_x = log_fit(x,y)\n",
    "\n",
    "m = len(x)\n",
    "\n",
    "xs = np.linspace(x[0], x[-1],1000)\n",
    "ys = A*np.log(sign_x*(xs - C)) + B\n",
    "\n",
    "shape1, shape2, extremes = log_primitives(A, B, C, sign_x, x)\n",
    "p_string = primitivesstring(shape1, shape2)\n",
    "\n",
    "log_primitivesvisual(x, y, A, B, C, sign_x, extremes, p_string)\n",
    "\n",
    "R = log_rvalue(A, B, C, sign_x, x, y)\n",
    "\n",
    "print(\"shape1 =\", shape1)\n",
    "print(\"shape2 =\", shape2)\n",
    "print(\"extremes =\", extremes)\n",
    "print(\"R =\", R)"
   ]
  },
  {
   "cell_type": "code",
   "execution_count": 45,
   "metadata": {},
   "outputs": [
    {
     "name": "stdout",
     "output_type": "stream",
     "text": [
      "shape1 = [1, 0]\n",
      "shape2 = [-1, 0]\n",
      "extremes = [51.10191118, 66.78090666363636, 223.5708615]\n",
      "R = [0.99996943]\n"
     ]
    },
    {
     "data": {
      "image/png": "[encoded data removed]",
      "text/plain": [
       "<Figure size 432x288 with 1 Axes>"
      ]
     },
     "metadata": {
      "needs_background": "light"
     },
     "output_type": "display_data"
    }
   ],
   "source": [
    "#Shape4\n",
    "x = [51.10191118,100.6052411,223.5708615]\n",
    "y = [57.17892445,72.74037707,72.29501013]\n",
    "\n",
    "A, B, C, sign_x = log_fit(x,y)\n",
    "\n",
    "m = len(x)\n",
    "\n",
    "xs = np.linspace(x[0], x[-1],1000)\n",
    "ys = A*np.log(sign_x*(xs - C)) + B\n",
    "\n",
    "shape1, shape2, extremes = log_primitives(A, B, C, sign_x, x)\n",
    "p_string = primitivesstring(shape1, shape2)\n",
    "\n",
    "log_primitivesvisual(x, y, A, B, C, sign_x, extremes, p_string)\n",
    "\n",
    "R = log_rvalue(A, B, C, sign_x, x, y)\n",
    "\n",
    "print(\"shape1 =\", shape1)\n",
    "print(\"shape2 =\", shape2)\n",
    "print(\"extremes =\", extremes)\n",
    "print(\"R =\", R)"
   ]
  },
  {
   "cell_type": "code",
   "execution_count": 19,
   "metadata": {},
   "outputs": [
    {
     "name": "stdout",
     "output_type": "stream",
     "text": [
      "C_est = [8.769590841603154]\n",
      "C_est = [23.785312306876207]\n",
      "shape1 = [1, 1, 0]\n",
      "shape2 = [-1, 0, 0]\n",
      "extremes = [9.279016, 16.747965999999998, 17.480216, 23.777566]\n",
      "R = [0.99986068]\n"
     ]
    },
    {
     "data": {
      "image/png": "[encoded data removed]",
      "text/plain": [
       "<Figure size 432x288 with 1 Axes>"
      ]
     },
     "metadata": {
      "needs_background": "light"
     },
     "output_type": "display_data"
    }
   ],
   "source": [
    "x = [9.279016, 11.321325, 23.768149, 23.777566]\n",
    "y = [11.849708, 18.886472, 28.143203, 28.577963]\n",
    "\n",
    "A, B, C, sign_x = log_fit(x,y)\n",
    "\n",
    "m = len(x)\n",
    "\n",
    "xs = np.linspace(x[0], x[-1],1000)\n",
    "ys = A*np.log(sign_x*(xs - C)) + B\n",
    "\n",
    "shape1, shape2, extremes = log_primitives(A, B, C, sign_x, x)\n",
    "p_string = primitivesstring(shape1, shape2)\n",
    "\n",
    "log_primitivesvisual(x, y, A, B, C, sign_x, extremes, p_string)\n",
    "\n",
    "R = log_rvalue(A, B, C, sign_x, x, y)\n",
    "\n",
    "print(\"shape1 =\", shape1)\n",
    "print(\"shape2 =\", shape2)\n",
    "print(\"extremes =\", extremes)\n",
    "print(\"R =\", R)"
   ]
  },
  {
   "cell_type": "code",
   "execution_count": null,
   "metadata": {},
   "outputs": [],
   "source": []
  }
 ],
 "metadata": {
  "kernelspec": {
   "display_name": "Python 3",
   "language": "python",
   "name": "python3"
  },
  "language_info": {
   "codemirror_mode": {
    "name": "ipython",
    "version": 3
   },
   "file_extension": ".py",
   "mimetype": "text/x-python",
   "name": "python",
   "nbconvert_exporter": "python",
   "pygments_lexer": "ipython3",
   "version": "3.7.6"
  }
 },
 "nbformat": 4,
 "nbformat_minor": 2
}
